{
 "cells": [
  {
   "cell_type": "code",
   "execution_count": 1,
   "metadata": {},
   "outputs": [
    {
     "name": "stdout",
     "output_type": "stream",
     "text": [
      "Welcome to ATM machine\n",
      "Swipe your card here\n",
      "Enter your atm pin to proceed545\n",
      "Wrong pin, Please try again\n",
      "Thank You Visit Again\n"
     ]
    }
   ],
   "source": [
    "\"\"\"We are making ATM machine program \"\"\"\n",
    "print(\"Welcome to ATM machine\")\n",
    "print(\"Swipe your card here\")\n",
    "transaction=(\"Balance Enquiry\",\"Withdrawl Money\",\"Deposit\",\"Transfer Money\",\"Change your pin\",\"Quit\")\n",
    "'''Here we are storing Pin atm'''\n",
    "database=int(input(\"Enter your atm pin to proceed\"))\n",
    "if database==5289:\n",
    "    \"\"\"If pin is correct it will go to transaction \n",
    "    otherwise it will go on else condition\"\"\"\n",
    "    database=int(input(\"choose your transaction\"))\n",
    "    print(\"1.Balance Enquiry\")\n",
    "    print(\"2.Withdrawl Money\")\n",
    "    print(\"3.Deposit\")\n",
    "    print(\"4.Transfer Money\")\n",
    "    print(\"5.Change your pin\")\n",
    "    print(\"6.Quit\")\n",
    "    if database==1:\n",
    "        x=str(input(\"Do you need recipt\"))\n",
    "        if database==\"Yes\":\n",
    "            print(\"show amount on recipt\")\n",
    "        else:\n",
    "            print(\"Show amount on Display\")\n",
    "    elif database==2:\n",
    "        a=int(input(\"Please Enter your amount\"))\n",
    "        if a>=0 and a<2000:\n",
    "            print(\"Please Take your cash\")\n",
    "        elif a==2000:            \n",
    "            print(\"dinomination 2000\")\n",
    "        else:\n",
    "            print(\"Time Out\")\n",
    "    elif database==3:\n",
    "        c=int(input(\"Enter your amount\"))\n",
    "        if c>=500:\n",
    "            print(\"Your deposit successfull\")\n",
    "        elif c<=500:\n",
    "            print(\"Please Enter some valid amount\")\n",
    "    elif database==4:\n",
    "        d=int(input(\"Please Enter your registered Mobile Number\"))\n",
    "        if d==database:\n",
    "            print('Your mobile number is registerd')\n",
    "            e=int(input(\"Pleas enter your OTP number\"))\n",
    "            f=int(input(\"Please Enter your New Pin\"))\n",
    "            if f>=0:\n",
    "                g=int(input(\"Confim your pin\"))\n",
    "                if g==f:\n",
    "                    print(\"Your Pin is Successfully changed\")\n",
    "            else:\n",
    "                print(\"Your confirm pin is not matched with new pin\")    \n",
    "    elif database==5:\n",
    "        n=int(input(\"Please Enter account Number\"))\n",
    "        p=int(input(\"Please Enter your Mobile Number\"))\n",
    "        o=int(input(\"Please Enter your amount\"))\n",
    "        m=str(input(\"Please confirm your transaction\"))\n",
    "        if m==\"Yes\":\n",
    "            print(\"Your transaction is processing your transaction is Complete\")\n",
    "        elif m==\"No\":\n",
    "            t=str(input(\"Please select your transaction\"))\n",
    "    elif database==6:\n",
    "        p=str(input(\"Do you want to quit your transaction\"))\n",
    "        if p==\"Yes\":\n",
    "            print(\"Your transaction is cancelled\")\n",
    "        elif p==\"No\":  \n",
    "            k=str(input(\"Please confirm your transaction\"))\n",
    "            if k==\"Yes\":\n",
    "                print(\"Your transaction is successfull\")      \n",
    "else:\n",
    "    print(\"Wrong pin, Please try again\")\n",
    "print(\"Thank You Visit Again\")"
   ]
  }
 ],
 "metadata": {
  "kernelspec": {
   "display_name": "Python 3",
   "language": "python",
   "name": "python3"
  },
  "language_info": {
   "codemirror_mode": {
    "name": "ipython",
    "version": 3
   },
   "file_extension": ".py",
   "mimetype": "text/x-python",
   "name": "python",
   "nbconvert_exporter": "python",
   "pygments_lexer": "ipython3",
   "version": "3.7.4"
  }
 },
 "nbformat": 4,
 "nbformat_minor": 2
}
